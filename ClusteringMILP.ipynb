{
 "cells": [
  {
   "cell_type": "code",
   "execution_count": 13,
   "id": "8164f746-5470-413b-8a99-92a2e2ee1993",
   "metadata": {},
   "outputs": [],
   "source": [
    "from sklearn import datasets\n",
    "import numpy as np\n",
    "\n",
    "from pandas import *\n",
    "import math, random\n",
    "import warnings\n",
    "warnings.simplefilter(action='ignore', category=FutureWarning)\n",
    "import pandas as pd"
   ]
  },
  {
   "cell_type": "code",
   "execution_count": 14,
   "id": "c47de0d7-9ee9-47de-8cf7-6480e9089fdf",
   "metadata": {},
   "outputs": [
    {
     "data": {
      "text/plain": [
       "sklearn.utils.Bunch"
      ]
     },
     "execution_count": 14,
     "metadata": {},
     "output_type": "execute_result"
    }
   ],
   "source": [
    "iris = datasets.load_iris()\n",
    "type(iris)"
   ]
  },
  {
   "cell_type": "code",
   "execution_count": 15,
   "id": "5d42a9b7-5328-43a2-b018-ca7fee91c48e",
   "metadata": {},
   "outputs": [],
   "source": [
    "data1 = iris.data[:, :3]\n",
    "\n",
    "listData = [list(i) for i in list(data1)]"
   ]
  },
  {
   "cell_type": "code",
   "execution_count": 16,
   "id": "8648ef3c-59e7-4de8-9059-cbbe538177d4",
   "metadata": {},
   "outputs": [],
   "source": [
    "random.shuffle(listData)"
   ]
  },
  {
   "cell_type": "code",
   "execution_count": 17,
   "id": "0ee65f77-1534-43b4-9eac-8bd74605b274",
   "metadata": {},
   "outputs": [],
   "source": [
    "train = np.array(listData)[:math.floor(np.shape(iris.data)[0]*2/3), :]\n"
   ]
  },
  {
   "cell_type": "code",
   "execution_count": 8,
   "id": "047f6fae-d29d-41bc-8420-098a299c1523",
   "metadata": {},
   "outputs": [],
   "source": [
    "test = np.array(listData)[math.floor(np.shape(iris.data)[0]*2/3):, :]\n"
   ]
  },
  {
   "cell_type": "code",
   "execution_count": 18,
   "id": "7ac752fe-a62f-4224-bb5e-ee46681655ed",
   "metadata": {},
   "outputs": [],
   "source": [
    "def Euclideandistance(x,y):\n",
    "    summ =0 \n",
    "    \n",
    "    if(len(x) == len(y)):\n",
    "        if (x == y).all():\n",
    "            return 0.0000000000\n",
    "        else:\n",
    "            for i in range(len(x)):\n",
    "                summ = summ + (x[i] - y[i])**2\n",
    "\n",
    "            return math.sqrt(summ)\n",
    "\n",
    "            "
   ]
  },
  {
   "cell_type": "code",
   "execution_count": 45,
   "id": "6d24e907-08d3-4e72-93f7-ba242e4ddedc",
   "metadata": {},
   "outputs": [],
   "source": [
    "n = len(train)\n",
    "dist = np.zeros((n,n))\n",
    "for i in range(0, n):\n",
    "    for j in range(0, n):\n",
    "        val = Euclideandistance(train[i], train[j])\n",
    "        dist[i][j] = val\n",
    "        dist[j][i] = val\n"
   ]
  },
  {
   "cell_type": "code",
   "execution_count": 59,
   "id": "a256bb8b-8aa3-4501-8fc0-c473e5cd4a08",
   "metadata": {},
   "outputs": [],
   "source": [
    "solver = pywraplp.Solver.CreateSolver('SCIP')"
   ]
  },
  {
   "cell_type": "code",
   "execution_count": 60,
   "id": "aec12f78-fe8c-43bc-8383-7cbf55d0effb",
   "metadata": {},
   "outputs": [],
   "source": [
    "x = []\n",
    "y = {}\n",
    "for i in range(n):\n",
    "    x.append(solver.BoolVar('x[%i]' % i))\n",
    "    dummy = []\n",
    "    for j in range(0, n):\n",
    "        dummy.append( solver.BoolVar('y[%i %d]' % (i, j)))\n",
    "        y[i] = dummy\n"
   ]
  },
  {
   "cell_type": "code",
   "execution_count": 61,
   "id": "96517a11-35ae-4a29-ad92-4c8156db6457",
   "metadata": {},
   "outputs": [
    {
     "name": "stdout",
     "output_type": "stream",
     "text": [
      "100\n"
     ]
    }
   ],
   "source": [
    "print(len(y[2]))"
   ]
  },
  {
   "cell_type": "code",
   "execution_count": 71,
   "id": "eafe9d28-c2ec-4fd7-bbf5-c74128cdcf1c",
   "metadata": {},
   "outputs": [],
   "source": [
    "Obj_terms = []\n",
    "for i in range(n):\n",
    "    for j in range(n):\n",
    "        Obj_coeffs.append(dist[i][j] * y[i][j])\n"
   ]
  },
  {
   "cell_type": "code",
   "execution_count": 68,
   "id": "39ac200a-181c-4e59-bc8f-2693111a3cbd",
   "metadata": {},
   "outputs": [
    {
     "data": {
      "text/plain": [
       "<ortools.linear_solver.pywraplp.Constraint; proxy of <Swig Object of type 'operations_research::MPConstraint *' at 0x7f5ef4bdd210> >"
      ]
     },
     "execution_count": 68,
     "metadata": {},
     "output_type": "execute_result"
    }
   ],
   "source": [
    "k = 3\n",
    "solver.Add( solver.Sum(x) == k)"
   ]
  },
  {
   "cell_type": "code",
   "execution_count": 69,
   "id": "58f930f4-cbc2-4192-9d56-ef5d60b88166",
   "metadata": {},
   "outputs": [],
   "source": [
    "for i in range(n):\n",
    "    solver.Add(solver.Sum(y[i]) == 1)"
   ]
  },
  {
   "cell_type": "code",
   "execution_count": 70,
   "id": "75c0cf09-c22e-46b4-a41a-bd23152f22c1",
   "metadata": {},
   "outputs": [],
   "source": [
    "for i in range(n):\n",
    "    for j in range(n):\n",
    "        solver.Add(y[i][j] <= x[i])"
   ]
  },
  {
   "cell_type": "code",
   "execution_count": 72,
   "id": "7a032971-6d0a-4a48-b674-14e1bcd2db1c",
   "metadata": {},
   "outputs": [],
   "source": [
    "solver.Maximize(solver.Sum(Obj_terms))"
   ]
  },
  {
   "cell_type": "code",
   "execution_count": 73,
   "id": "77e7c3ee-3a6f-4341-8001-f0076a79106e",
   "metadata": {},
   "outputs": [
    {
     "name": "stdout",
     "output_type": "stream",
     "text": [
      "The problem does not have an optimal solution.\n"
     ]
    }
   ],
   "source": [
    "status = solver.Solve()\n",
    "\n",
    "if status == pywraplp.Solver.OPTIMAL:\n",
    "\n",
    "    print('Objective value =', solver.Objective().Value())\n",
    "    for i in range(n):\n",
    "        for j in range(n):\n",
    "            print(y[i][j].name(), ' = ', y[i][j].solution_value())\n",
    "    print('Problem solved in %f milliseconds' % solver.wall_time())\n",
    "    print('Problem solved in %d iterations' % solver.iterations())\n",
    "    print('Problem solved in %d branch-and-bound nodes' % solver.nodes())\n",
    "\n",
    "else:\n",
    "    print('The problem does not have an optimal solution.')"
   ]
  }
 ],
 "metadata": {
  "kernelspec": {
   "display_name": "Python 3",
   "language": "python",
   "name": "python3"
  },
  "language_info": {
   "codemirror_mode": {
    "name": "ipython",
    "version": 3
   },
   "file_extension": ".py",
   "mimetype": "text/x-python",
   "name": "python",
   "nbconvert_exporter": "python",
   "pygments_lexer": "ipython3",
   "version": "3.6.9"
  }
 },
 "nbformat": 4,
 "nbformat_minor": 5
}
