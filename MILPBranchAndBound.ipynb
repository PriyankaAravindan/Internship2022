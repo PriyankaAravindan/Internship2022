{
 "cells": [
  {
   "cell_type": "code",
   "execution_count": null,
   "id": "0e4f0440-e411-4f4e-b470-07ff87c852e9",
   "metadata": {},
   "outputs": [],
   "source": [
    "from sklearn import datasets\n",
    "import numpy as np\n",
    "\n",
    "from pandas import *\n",
    "import math, random\n",
    "import warnings\n",
    "warnings.simplefilter(action='ignore', category=FutureWarning)\n",
    "import pandas as pd"
   ]
  },
  {
   "cell_type": "code",
   "execution_count": null,
   "id": "edc36f78-84bb-4591-9dd7-e6ac6ca23aa6",
   "metadata": {},
   "outputs": [],
   "source": [
    "iris = datasets.load_iris()\n",
    "type(iris)"
   ]
  },
  {
   "cell_type": "code",
   "execution_count": null,
   "id": "61592ff3-b0a4-44bc-b54f-73db3fdd0192",
   "metadata": {},
   "outputs": [],
   "source": [
    "data1 = iris.data[:, :3]\n",
    "\n",
    "listData = [list(i) for i in list(data1)]"
   ]
  },
  {
   "cell_type": "code",
   "execution_count": null,
   "id": "d642c8b7-f9ff-4efd-abb7-30320136bd49",
   "metadata": {},
   "outputs": [],
   "source": [
    "random.shuffle(listData)"
   ]
  },
  {
   "cell_type": "code",
   "execution_count": null,
   "id": "f54aff7a-52ab-4f51-bd19-884e110dc3e0",
   "metadata": {},
   "outputs": [],
   "source": [
    "train = np.array(listData)[:math.floor(np.shape(iris.data)[0]*2/3), :]"
   ]
  },
  {
   "cell_type": "code",
   "execution_count": null,
   "id": "0609a424-aca6-4ee5-bbb2-5de71fee1d92",
   "metadata": {},
   "outputs": [],
   "source": [
    "test = np.array(listData)[math.floor(np.shape(iris.data)[0]*2/3):, :]"
   ]
  },
  {
   "cell_type": "code",
   "execution_count": null,
   "id": "3a1a3eb8-506e-49d8-8b31-c28170a2a38c",
   "metadata": {},
   "outputs": [],
   "source": [
    "n = len(train)\n",
    "dist = np.zeros((n,n))\n",
    "for i in range(0, n):\n",
    "    for j in range(0, n):\n",
    "        val = Euclideandistance(train[i], train[j])\n",
    "        dist[i][j] = val\n",
    "        dist[j][i] = val"
   ]
  },
  {
   "cell_type": "code",
   "execution_count": null,
   "id": "e30a7df2-f0e6-4cd4-bb5e-412f325806de",
   "metadata": {},
   "outputs": [],
   "source": [
    "solver = pywraplp.Solver.CreateSolver('SCIP')"
   ]
  },
  {
   "cell_type": "code",
   "execution_count": null,
   "id": "15111579-8e43-4db3-a3dc-c0307ec8baad",
   "metadata": {},
   "outputs": [],
   "source": [
    "x = []\n",
    "y = {}\n",
    "for i in range(n):\n",
    "    x.append(solver.BoolVar('x[%i]' % i))\n",
    "    dummy = []\n",
    "    for j in range(0, n):\n",
    "        dummy.append( solver.BoolVar('y[%i %d]' % (i, j)))\n",
    "        y[i] = dummy\n",
    "    "
   ]
  },
  {
   "cell_type": "code",
   "execution_count": null,
   "id": "fec6094c-33bd-42cf-ae56-213cb5703c63",
   "metadata": {},
   "outputs": [],
   "source": [
    "Obj_terms = []\n",
    "for i in range(n):\n",
    "    for j in range(n):\n",
    "        Obj_coeffs.append(dist[i][j] * y[i][j])"
   ]
  },
  {
   "cell_type": "code",
   "execution_count": null,
   "id": "1af13e1e-f8f1-4c5c-b579-caca7ebb4e14",
   "metadata": {},
   "outputs": [],
   "source": [
    "k = 3\n",
    "solver.Add( solver.Sum(x) == k)"
   ]
  },
  {
   "cell_type": "code",
   "execution_count": null,
   "id": "5e52eeb8-22e6-4bfd-a973-d47d3b25bd6e",
   "metadata": {},
   "outputs": [],
   "source": [
    "for i in range(n):\n",
    "    solver.Add(solver.Sum(y[i]) == 1)"
   ]
  },
  {
   "cell_type": "code",
   "execution_count": null,
   "id": "dde5efea-7cd1-4729-b2cc-2ef98796c362",
   "metadata": {},
   "outputs": [],
   "source": [
    "for i in range(n):\n",
    "    for j in range(n):\n",
    "        solver.Add(y[i][j] <= x[i])"
   ]
  },
  {
   "cell_type": "code",
   "execution_count": null,
   "id": "560bb9e3-087b-4418-bcdc-c7eef2feabfc",
   "metadata": {},
   "outputs": [],
   "source": [
    "solver.Maximize(solver.Sum(Obj_terms))"
   ]
  },
  {
   "cell_type": "code",
   "execution_count": null,
   "id": "7dd40bb1-ae65-4f3a-b107-9f1c9489574f",
   "metadata": {},
   "outputs": [],
   "source": [
    "status = solver.Solve()\n",
    "\n",
    "if status == pywraplp.Solver.OPTIMAL:\n",
    "\n",
    "    print('Objective value =', solver.Objective().Value())\n",
    "    for i in range(n):\n",
    "        for j in range(n):\n",
    "            print(y[i][j].name(), ' = ', y[i][j].solution_value())\n",
    "    print('Problem solved in %f milliseconds' % solver.wall_time())\n",
    "    print('Problem solved in %d iterations' % solver.iterations())\n",
    "    print('Problem solved in %d branch-and-bound nodes' % solver.nodes())\n",
    "\n",
    "else:\n",
    "    print('The problem does not have an optimal solution.')"
   ]
  },
  {
   "cell_type": "code",
   "execution_count": null,
   "id": "bb67919e-5adc-4a01-b824-f77cd8a5b6df",
   "metadata": {},
   "outputs": [],
   "source": [
    "class node:\n",
    "    def __init__(self,n):\n",
    "        x = []\n",
    "        y = {}\n",
    "        obj = 0\n",
    "        for i in range(n):\n",
    "            x.append(solver.BoolVar('x[%i]' % i))\n",
    "            for j in range(0, n):\n",
    "                dummy.append( solver.BoolVar('y[%i %d]' % (i, j)))\n",
    "                y[i] = dummy"
   ]
  },
  {
   "cell_type": "code",
   "execution_count": null,
   "id": "0a356f87-bea5-4001-bddf-f00b9ca175a2",
   "metadata": {},
   "outputs": [],
   "source": [
    "import heapq\n",
    "def node_score():\n",
    "    return pop(max_heap)"
   ]
  },
  {
   "cell_type": "code",
   "execution_count": null,
   "id": "fb394905-99f6-415a-9eb9-ffef61713cd7",
   "metadata": {},
   "outputs": [],
   "source": [
    "def variable_score():# entropy - later will be updated to pathwise scoring"
   ]
  },
  {
   "cell_type": "code",
   "execution_count": null,
   "id": "24ba9ecf-2b1d-45d4-870d-b0927f3273a7",
   "metadata": {},
   "outputs": [],
   "source": [
    "def final_cost():\n",
    "    "
   ]
  },
  {
   "cell_type": "code",
   "execution_count": null,
   "id": "f9d21de7-2902-4df0-8993-b5e0e84ada34",
   "metadata": {},
   "outputs": [],
   "source": [
    "def initialize_tree():"
   ]
  },
  {
   "cell_type": "code",
   "execution_count": null,
   "id": "7963b6a5-aea2-4ded-bef6-eda45b4cd459",
   "metadata": {},
   "outputs": [],
   "source": [
    "def add_node_tree():"
   ]
  },
  {
   "cell_type": "code",
   "execution_count": null,
   "id": "fc77914d-79cf-4a26-bd77-e3e4e05cf605",
   "metadata": {},
   "outputs": [],
   "source": []
  },
  {
   "cell_type": "code",
   "execution_count": null,
   "id": "3ee4eaed-74d9-490a-86e2-20943d177f7b",
   "metadata": {},
   "outputs": [],
   "source": [
    "n = len(train)\n",
    "dist = np.zeros((n,n))\n",
    "for i in range(0, n):\n",
    "    for j in range(0, n):\n",
    "        val = Euclideandistance(train[i], train[j])\n",
    "        dist[i][j] = val\n",
    "        dist[j][i] = val"
   ]
  }
 ],
 "metadata": {
  "kernelspec": {
   "display_name": "Python 3",
   "language": "python",
   "name": "python3"
  },
  "language_info": {
   "codemirror_mode": {
    "name": "ipython",
    "version": 3
   },
   "file_extension": ".py",
   "mimetype": "text/x-python",
   "name": "python",
   "nbconvert_exporter": "python",
   "pygments_lexer": "ipython3",
   "version": "3.6.9"
  }
 },
 "nbformat": 4,
 "nbformat_minor": 5
}
